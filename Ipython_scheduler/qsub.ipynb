{
 "metadata": {
  "name": ""
 },
 "nbformat": 3,
 "nbformat_minor": 0,
 "worksheets": [
  {
   "cells": [
    {
     "cell_type": "code",
     "collapsed": false,
     "input": [
      "import ipython_parallel as ipp\n",
      "import subprocess as sp"
     ],
     "language": "python",
     "metadata": {},
     "outputs": [],
     "prompt_number": 1
    },
    {
     "cell_type": "code",
     "collapsed": false,
     "input": [
      "#reload ipp\n",
      "#in python 3 \"reload\" is part of module \"ipp\". \n",
      "#so here I try to import reload from imp, it will work in python 3. In python 2 nothing will happen\n",
      "try: \n",
      "    from imp import reload\n",
      "except:\n",
      "    pass\n",
      "reload(ipp)"
     ],
     "language": "python",
     "metadata": {},
     "outputs": [
      {
       "metadata": {},
       "output_type": "pyout",
       "prompt_number": 8,
       "text": [
        "<module 'ipython_parallel' from '/home/montefra/Codes/Python/pythonlib/ipython_parallel.py'>"
       ]
      }
     ],
     "prompt_number": 8
    },
    {
     "cell_type": "code",
     "collapsed": false,
     "input": [
      "lbv = ipp.Load_balanced_view()"
     ],
     "language": "python",
     "metadata": {},
     "outputs": [],
     "prompt_number": 2
    },
    {
     "cell_type": "code",
     "collapsed": false,
     "input": [
      "lbv.exec_on_engine(\"import subprocess as sp\")"
     ],
     "language": "python",
     "metadata": {},
     "outputs": [],
     "prompt_number": 3
    },
    {
     "cell_type": "code",
     "collapsed": false,
     "input": [
      "def submit(string, logfile):\n",
      "    \"\"\"command to be passed to subprocess\n",
      "    string: \n",
      "        command to pass to popen\n",
      "    logfile: string\n",
      "        file root for the logfiles storing stdout and stderr\n",
      "    \"\"\"\n",
      "    with open(logfile+'.o', 'w') as logo, open(logfile+'.e', 'w') as loge:\n",
      "        p = sp.Popen(\"ls -l\".split(), stdout=sp.PIPE, stderr=sp.PIPE)\n",
      "        stdout, stderr = p.communicate()\n",
      "        logo.write(stdout)\n",
      "        loge.write(stderr)"
     ],
     "language": "python",
     "metadata": {},
     "outputs": [],
     "prompt_number": 18
    },
    {
     "cell_type": "code",
     "collapsed": false,
     "input": [
      "runs = [lbv.apply(submit, \"ls -l\") for i in range(5)]"
     ],
     "language": "python",
     "metadata": {},
     "outputs": [],
     "prompt_number": 19
    },
    {
     "cell_type": "code",
     "collapsed": false,
     "input": [
      "print([r.result for r in runs])"
     ],
     "language": "python",
     "metadata": {},
     "outputs": [
      {
       "output_type": "stream",
       "stream": "stdout",
       "text": [
        "[(b'total 4\\n-rw-rw-r-- 1 montefra montefra 3573 Aug  2 17:37 qsub.ipynb\\n', None), (b'total 4\\n-rw-rw-r-- 1 montefra montefra 3573 Aug  2 17:37 qsub.ipynb\\n', None), (b'total 4\\n-rw-rw-r-- 1 montefra montefra 3573 Aug  2 17:37 qsub.ipynb\\n', None), (b'total 4\\n-rw-rw-r-- 1 montefra montefra 3573 Aug  2 17:37 qsub.ipynb\\n', None), (b'total 4\\n-rw-rw-r-- 1 montefra montefra 3573 Aug  2 17:37 qsub.ipynb\\n', None)]\n"
       ]
      }
     ],
     "prompt_number": 22
    },
    {
     "cell_type": "code",
     "collapsed": false,
     "input": [
      "print(r.result)"
     ],
     "language": "python",
     "metadata": {},
     "outputs": [
      {
       "output_type": "stream",
       "stream": "stdout",
       "text": [
        "(b'total 4\\n-rw-rw-r-- 1 montefra montefra 3573 Aug  2 17:37 qsub.ipynb\\n', None)\n"
       ]
      }
     ],
     "prompt_number": 21
    },
    {
     "cell_type": "code",
     "collapsed": false,
     "input": [
      "p = sp.Popen(\"ls -l qsub.ipynb topo\".split(), stdout=sp.PIPE, stderr=sp.PIPE)\n",
      "stdout, stderr = p.communicate()\n",
      "print(stdout, '\\n', stderr)"
     ],
     "language": "python",
     "metadata": {},
     "outputs": [
      {
       "output_type": "stream",
       "stream": "stdout",
       "text": [
        "b'-rw-rw-r-- 1 montefra montefra 4088 Aug  2 17:47 qsub.ipynb\\n' \n",
        " b'ls: cannot access topo: No such file or directory\\n'\n"
       ]
      }
     ],
     "prompt_number": 40
    },
    {
     "cell_type": "code",
     "collapsed": false,
     "input": [],
     "language": "python",
     "metadata": {},
     "outputs": []
    }
   ],
   "metadata": {}
  }
 ]
}